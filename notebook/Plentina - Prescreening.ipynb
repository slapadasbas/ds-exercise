{
 "cells": [
  {
   "cell_type": "code",
   "execution_count": 2,
   "id": "85e01aa5",
   "metadata": {},
   "outputs": [],
   "source": [
    "import sqlite3\n",
    "import pandas as pd\n",
    "\n",
    "import datetime\n",
    "import re"
   ]
  },
  {
   "cell_type": "code",
   "execution_count": 7,
   "id": "e75e3d62",
   "metadata": {},
   "outputs": [],
   "source": [
    "con = sqlite3.connect('switrs.sqlite')"
   ]
  },
  {
   "cell_type": "code",
   "execution_count": 8,
   "id": "b4d398aa",
   "metadata": {},
   "outputs": [],
   "source": [
    "cur = con.cursor()"
   ]
  },
  {
   "cell_type": "code",
   "execution_count": 16,
   "id": "81f8c199",
   "metadata": {},
   "outputs": [
    {
     "data": {
      "text/plain": [
       "[('Sunday', 1102466),\n",
       " ('Saturday', 1295743),\n",
       " ('Monday', 1320053),\n",
       " ('Tuesday', 1375846),\n",
       " ('Wednesday', 1382214),\n",
       " ('Thursday', 1392183),\n",
       " ('Friday', 1555829)]"
      ]
     },
     "execution_count": 16,
     "metadata": {},
     "output_type": "execute_result"
    }
   ],
   "source": [
    "cur.execute(\"\"\"\n",
    "SELECT \n",
    "    a.day_of_the_week, COUNT(1)\n",
    "    FROM (\n",
    "        SELECT    \n",
    "            CASE cast (strftime('%w', collision_date) as integer)\n",
    "              WHEN 0 THEN 'Sunday'\n",
    "              WHEN 1 THEN 'Monday'\n",
    "              WHEN 2 THEN 'Tuesday'\n",
    "              WHEN 3 THEN 'Wednesday'\n",
    "              WHEN 4 THEN 'Thursday'\n",
    "              WHEN 5 THEN 'Friday'\n",
    "            ELSE 'Saturday' \n",
    "        END AS day_of_the_week\n",
    "        FROM collisions\n",
    "    ) a\n",
    "    GROUP BY a.day_of_the_week\n",
    "    ORDER BY COUNT(1)\n",
    "\n",
    "\"\"\")\n",
    "cur.fetchall()"
   ]
  },
  {
   "cell_type": "code",
   "execution_count": 24,
   "id": "e708eaf7",
   "metadata": {},
   "outputs": [
    {
     "data": {
      "text/plain": [
       "[('los angeles', 2851925),\n",
       " ('orange', 728565),\n",
       " ('san bernardino', 569376),\n",
       " ('san diego', 535596),\n",
       " ('riverside', 493758)]"
      ]
     },
     "execution_count": 24,
     "metadata": {},
     "output_type": "execute_result"
    }
   ],
   "source": [
    "cur.execute(\"\"\"\n",
    "SELECT \n",
    "    county_location, \n",
    "    COUNT(1) \n",
    "FROM collisions \n",
    "GROUP BY county_location\n",
    "ORDER BY COUNT(1) DESC\n",
    "LIMIT 5\n",
    "\"\"\").fetchall()"
   ]
  },
  {
   "cell_type": "code",
   "execution_count": 35,
   "id": "586fef24",
   "metadata": {},
   "outputs": [
    {
     "data": {
      "text/plain": [
       "[(34.17926490984743,)]"
      ]
     },
     "execution_count": 35,
     "metadata": {},
     "output_type": "execute_result"
    }
   ],
   "source": [
    "cur.execute(\"\"\"\n",
    "SELECT AVG(party_age)\n",
    "FROM parties\n",
    "WHERE oaf_violation_category = 'driving or bicycling under the influence of alcohol or drug'\n",
    "    AND at_fault = 1\n",
    "\"\"\").fetchall()"
   ]
  },
  {
   "cell_type": "code",
   "execution_count": 40,
   "id": "d97f8060",
   "metadata": {},
   "outputs": [
    {
     "data": {
      "text/plain": [
       "[(35.84855077359638,)]"
      ]
     },
     "execution_count": 40,
     "metadata": {},
     "output_type": "execute_result"
    }
   ],
   "source": [
    "cur.execute(\"\"\"\n",
    "SELECT AVG(party_age)\n",
    "FROM parties\n",
    "WHERE party_drug_physical = 'under drug influence'\n",
    "    AND at_fault = 1\n",
    "\"\"\").fetchall()"
   ]
  }
 ],
 "metadata": {
  "interpreter": {
   "hash": "f7698cfa52f03d0bcb45ad227ec58cdc491c898d7a306ca99ff7c2627fd49983"
  },
  "kernelspec": {
   "display_name": "Python 3 (ipykernel)",
   "language": "python",
   "name": "python3"
  },
  "language_info": {
   "codemirror_mode": {
    "name": "ipython",
    "version": 3
   },
   "file_extension": ".py",
   "mimetype": "text/x-python",
   "name": "python",
   "nbconvert_exporter": "python",
   "pygments_lexer": "ipython3",
   "version": "3.9.2"
  }
 },
 "nbformat": 4,
 "nbformat_minor": 5
}
